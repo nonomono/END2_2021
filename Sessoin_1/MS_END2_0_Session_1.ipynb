{
  "nbformat": 4,
  "nbformat_minor": 0,
  "metadata": {
    "colab": {
      "name": "MS_END2.0 Session 1.ipynb",
      "provenance": []
    },
    "kernelspec": {
      "name": "python3",
      "display_name": "Python 3"
    },
    "language_info": {
      "name": "python"
    }
  },
  "cells": [
    {
      "cell_type": "markdown",
      "metadata": {
        "id": "nPVnDgbrC5nY"
      },
      "source": [
        "Rewrite the Colab file and:\n",
        "remove the last activation function\n",
        "make sure there are in total 44 parameters\n",
        "run it for 2001 epochs"
      ]
    },
    {
      "cell_type": "markdown",
      "metadata": {
        "id": "nZdMsJ_GDQLi"
      },
      "source": [
        "Add a readme file to your project and describe these things:\n",
        "What is a neural network neuron?\n",
        "What is the use of the learning rate?\n",
        "How are weights initialized?\n",
        "What is \"loss\" in a neural network?\n",
        "What is the \"chain rule\" in gradient flow?"
      ]
    },
    {
      "cell_type": "markdown",
      "metadata": {
        "id": "g4heasS2IY3G"
      },
      "source": [
        "### MS_1"
      ]
    },
    {
      "cell_type": "code",
      "metadata": {
        "colab": {
          "base_uri": "https://localhost:8080/"
        },
        "id": "fuktfiB8IG7S",
        "outputId": "84684369-cfc0-44a1-fed9-6b066eb6d91c"
      },
      "source": [
        "import torch\n",
        "from torch.autograd import Variable\n",
        "import torch.nn as nn\n",
        "import torch.nn.functional as F\n",
        "import torch.optim as optim\n",
        "import numpy as np\n",
        "import matplotlib.pyplot as plt\n",
        "%matplotlib inline\n",
        "torch.manual_seed(2)"
      ],
      "execution_count": 11,
      "outputs": [
        {
          "output_type": "execute_result",
          "data": {
            "text/plain": [
              "<torch._C.Generator at 0x7fa0064708d0>"
            ]
          },
          "metadata": {
            "tags": []
          },
          "execution_count": 11
        }
      ]
    },
    {
      "cell_type": "code",
      "metadata": {
        "id": "58456J3SIg5M"
      },
      "source": [
        "X = torch.Tensor([[0,0], [0,1], [1,0], [1,1]])\n",
        "Y = torch.Tensor([0, 1, 1, 0]).view(-1,1)"
      ],
      "execution_count": 12,
      "outputs": []
    },
    {
      "cell_type": "code",
      "metadata": {
        "id": "_Vo_hqeaIjnu"
      },
      "source": [
        "class XOR(nn.Module):\n",
        "    def __init__(self, input_dim = 2, output_dim=1):\n",
        "        super(XOR, self).__init__()\n",
        "        self.lin1 = nn.Linear(input_dim, 1)\n",
        "        self.lin2 = nn.Linear(1,2)\n",
        "        self.lin3 = nn.Linear(2, 4)\n",
        "        self.lin4 = nn.Linear(4, 4)\n",
        "        self.lin5 = nn.Linear(4, output_dim)\n",
        "    \n",
        "    def forward(self, x):\n",
        "        x = self.lin1(x)\n",
        "        x = F.tanh(x)\n",
        "        x = self.lin2(x)\n",
        "        x = F.tanh(x)\n",
        "        x = self.lin3(x)\n",
        "        x = F.tanh(x)\n",
        "        x = self.lin4(x)\n",
        "        x = F.tanh(x)\n",
        "        x = self.lin5(x)\n",
        "        return x"
      ],
      "execution_count": 28,
      "outputs": []
    },
    {
      "cell_type": "code",
      "metadata": {
        "colab": {
          "base_uri": "https://localhost:8080/"
        },
        "id": "vwIH0YH6Int6",
        "outputId": "7f0e7f22-1b1d-4f76-e3c5-2249221a08c5"
      },
      "source": [
        "model = XOR()\n",
        "print(model)\n",
        "from torchsummary import summary\n",
        "summary(model, (2,2))"
      ],
      "execution_count": 29,
      "outputs": [
        {
          "output_type": "stream",
          "text": [
            "XOR(\n",
            "  (lin1): Linear(in_features=2, out_features=1, bias=True)\n",
            "  (lin2): Linear(in_features=1, out_features=2, bias=True)\n",
            "  (lin3): Linear(in_features=2, out_features=4, bias=True)\n",
            "  (lin4): Linear(in_features=4, out_features=4, bias=True)\n",
            "  (lin5): Linear(in_features=4, out_features=1, bias=True)\n",
            ")\n",
            "----------------------------------------------------------------\n",
            "        Layer (type)               Output Shape         Param #\n",
            "================================================================\n",
            "            Linear-1                 [-1, 2, 1]               3\n",
            "            Linear-2                 [-1, 2, 2]               4\n",
            "            Linear-3                 [-1, 2, 4]              12\n",
            "            Linear-4                 [-1, 2, 4]              20\n",
            "            Linear-5                 [-1, 2, 1]               5\n",
            "================================================================\n",
            "Total params: 44\n",
            "Trainable params: 44\n",
            "Non-trainable params: 0\n",
            "----------------------------------------------------------------\n",
            "Input size (MB): 0.00\n",
            "Forward/backward pass size (MB): 0.00\n",
            "Params size (MB): 0.00\n",
            "Estimated Total Size (MB): 0.00\n",
            "----------------------------------------------------------------\n"
          ],
          "name": "stdout"
        },
        {
          "output_type": "stream",
          "text": [
            "/usr/local/lib/python3.7/dist-packages/torch/nn/functional.py:1698: UserWarning: nn.functional.tanh is deprecated. Use torch.tanh instead.\n",
            "  warnings.warn(\"nn.functional.tanh is deprecated. Use torch.tanh instead.\")\n"
          ],
          "name": "stderr"
        }
      ]
    },
    {
      "cell_type": "code",
      "metadata": {
        "id": "A0pJHIggIrLw"
      },
      "source": [
        "def weights_init(model):\n",
        "    for m in model.modules():\n",
        "        if isinstance(m, nn.Linear):\n",
        "            # initialize the weight tensor, here we use a normal distribution\n",
        "            m.weight.data.normal_(0, 1)\n",
        "\n",
        "weights_init(model)"
      ],
      "execution_count": 30,
      "outputs": []
    },
    {
      "cell_type": "code",
      "metadata": {
        "id": "kpGYNd6_IuT2"
      },
      "source": [
        "loss_func = nn.L1Loss()"
      ],
      "execution_count": 31,
      "outputs": []
    },
    {
      "cell_type": "code",
      "metadata": {
        "id": "p-zOnWO4IyuH"
      },
      "source": [
        "optimizer = optim.SGD(model.parameters(), lr=0.02, momentum=0.9)"
      ],
      "execution_count": 32,
      "outputs": []
    },
    {
      "cell_type": "code",
      "metadata": {
        "colab": {
          "base_uri": "https://localhost:8080/"
        },
        "id": "XJdynWdaI6Y3",
        "outputId": "7ec6c783-51c5-4c67-d57a-279722878afd"
      },
      "source": [
        "epochs = 2001\n",
        "steps = X.size(0)\n",
        "for i in range(epochs):\n",
        "    for j in range(steps):\n",
        "        data_point = np.random.randint(X.size(0))\n",
        "        x_var = Variable(X[data_point], requires_grad=False)\n",
        "        y_var = Variable(Y[data_point], requires_grad=False)\n",
        "        \n",
        "        optimizer.zero_grad()\n",
        "        y_hat = model(x_var)\n",
        "        loss = loss_func.forward(y_hat, y_var)\n",
        "        loss.backward()\n",
        "        optimizer.step()\n",
        "        \n",
        "    if i % 50 == 0:\n",
        "        print( \"Epoch: {0}, Loss: {1}, \".format(i, loss.data.numpy()))"
      ],
      "execution_count": 33,
      "outputs": [
        {
          "output_type": "stream",
          "text": [
            "/usr/local/lib/python3.7/dist-packages/torch/nn/functional.py:1698: UserWarning: nn.functional.tanh is deprecated. Use torch.tanh instead.\n",
            "  warnings.warn(\"nn.functional.tanh is deprecated. Use torch.tanh instead.\")\n"
          ],
          "name": "stderr"
        },
        {
          "output_type": "stream",
          "text": [
            "Epoch: 0, Loss: 0.6085708141326904, \n",
            "Epoch: 50, Loss: 0.8099029064178467, \n",
            "Epoch: 100, Loss: 0.010314017534255981, \n",
            "Epoch: 150, Loss: 0.7326444387435913, \n",
            "Epoch: 200, Loss: 0.9544728994369507, \n",
            "Epoch: 250, Loss: 1.4551869630813599, \n",
            "Epoch: 300, Loss: 0.5975990295410156, \n",
            "Epoch: 350, Loss: 1.0678527355194092, \n",
            "Epoch: 400, Loss: 0.2601182460784912, \n",
            "Epoch: 450, Loss: 0.05054271221160889, \n",
            "Epoch: 500, Loss: 1.0021718740463257, \n",
            "Epoch: 550, Loss: 0.9206986427307129, \n",
            "Epoch: 600, Loss: 0.9907621145248413, \n",
            "Epoch: 650, Loss: 0.43155723810195923, \n",
            "Epoch: 700, Loss: 0.026032447814941406, \n",
            "Epoch: 750, Loss: 0.12449273467063904, \n",
            "Epoch: 800, Loss: 0.8322058916091919, \n",
            "Epoch: 850, Loss: 0.19812285900115967, \n",
            "Epoch: 900, Loss: 0.9954541921615601, \n",
            "Epoch: 950, Loss: 0.21518322825431824, \n",
            "Epoch: 1000, Loss: 0.377038836479187, \n",
            "Epoch: 1050, Loss: 0.3324909210205078, \n",
            "Epoch: 1100, Loss: 0.07063007354736328, \n",
            "Epoch: 1150, Loss: 0.4471854269504547, \n",
            "Epoch: 1200, Loss: 0.4218139052391052, \n",
            "Epoch: 1250, Loss: 0.7989542484283447, \n",
            "Epoch: 1300, Loss: 0.04905781149864197, \n",
            "Epoch: 1350, Loss: 0.08496195077896118, \n",
            "Epoch: 1400, Loss: 0.10275942087173462, \n",
            "Epoch: 1450, Loss: 0.4536113739013672, \n",
            "Epoch: 1500, Loss: 1.201278567314148, \n",
            "Epoch: 1550, Loss: 0.45233577489852905, \n",
            "Epoch: 1600, Loss: 0.6201757192611694, \n",
            "Epoch: 1650, Loss: 0.7869595885276794, \n",
            "Epoch: 1700, Loss: 1.0470976829528809, \n",
            "Epoch: 1750, Loss: 0.06270194053649902, \n",
            "Epoch: 1800, Loss: 0.03166234493255615, \n",
            "Epoch: 1850, Loss: 1.0267888307571411, \n",
            "Epoch: 1900, Loss: 0.5755055546760559, \n",
            "Epoch: 1950, Loss: 0.2772015333175659, \n",
            "Epoch: 2000, Loss: 0.20969635248184204, \n"
          ],
          "name": "stdout"
        }
      ]
    },
    {
      "cell_type": "markdown",
      "metadata": {
        "id": "IsYJGkAqIRq2"
      },
      "source": [
        "### THE ADMIN\n"
      ]
    },
    {
      "cell_type": "code",
      "metadata": {
        "colab": {
          "base_uri": "https://localhost:8080/"
        },
        "id": "GC_6PeobwwkH",
        "outputId": "f51085dd-a90c-4a16-a302-bb813d134c55"
      },
      "source": [
        "import torch\n",
        "from torch.autograd import Variable\n",
        "import torch.nn as nn\n",
        "import torch.nn.functional as F\n",
        "import torch.optim as optim\n",
        "import numpy as np\n",
        "import matplotlib.pyplot as plt\n",
        "%matplotlib inline\n",
        "torch.manual_seed(2)"
      ],
      "execution_count": 1,
      "outputs": [
        {
          "output_type": "execute_result",
          "data": {
            "text/plain": [
              "<torch._C.Generator at 0x7fa0064708d0>"
            ]
          },
          "metadata": {
            "tags": []
          },
          "execution_count": 1
        }
      ]
    },
    {
      "cell_type": "code",
      "metadata": {
        "id": "bL64bMTkw2GP"
      },
      "source": [
        "X = torch.Tensor([[0,0], [0,1], [1,0], [1,1]])\n",
        "Y = torch.Tensor([0, 1, 1, 0]).view(-1,1)"
      ],
      "execution_count": 2,
      "outputs": []
    },
    {
      "cell_type": "code",
      "metadata": {
        "id": "aC82kEAIw3Wf"
      },
      "source": [
        "class XOR(nn.Module):\n",
        "    def __init__(self, input_dim = 2, output_dim=1):\n",
        "        super(XOR, self).__init__()\n",
        "        self.lin1 = nn.Linear(input_dim, 2)\n",
        "        self.lin2 = nn.Linear(2, output_dim)\n",
        "    \n",
        "    def forward(self, x):\n",
        "        x = self.lin1(x)\n",
        "        x = F.tanh(x)\n",
        "        x = self.lin2(x)\n",
        "        x = F.tanh(x)\n",
        "        return x"
      ],
      "execution_count": 3,
      "outputs": []
    },
    {
      "cell_type": "code",
      "metadata": {
        "colab": {
          "base_uri": "https://localhost:8080/"
        },
        "id": "8gQIQExYw65K",
        "outputId": "1b760c9f-e316-4f7c-e50d-cd96386fb337"
      },
      "source": [
        "model = XOR()\n",
        "print(model)\n",
        "from torchsummary import summary\n",
        "summary(model, (2,2))"
      ],
      "execution_count": 5,
      "outputs": [
        {
          "output_type": "stream",
          "text": [
            "XOR(\n",
            "  (lin1): Linear(in_features=2, out_features=2, bias=True)\n",
            "  (lin2): Linear(in_features=2, out_features=1, bias=True)\n",
            ")\n",
            "----------------------------------------------------------------\n",
            "        Layer (type)               Output Shape         Param #\n",
            "================================================================\n",
            "            Linear-1                 [-1, 2, 2]               6\n",
            "            Linear-2                 [-1, 2, 1]               3\n",
            "================================================================\n",
            "Total params: 9\n",
            "Trainable params: 9\n",
            "Non-trainable params: 0\n",
            "----------------------------------------------------------------\n",
            "Input size (MB): 0.00\n",
            "Forward/backward pass size (MB): 0.00\n",
            "Params size (MB): 0.00\n",
            "Estimated Total Size (MB): 0.00\n",
            "----------------------------------------------------------------\n"
          ],
          "name": "stdout"
        },
        {
          "output_type": "stream",
          "text": [
            "/usr/local/lib/python3.7/dist-packages/torch/nn/functional.py:1698: UserWarning: nn.functional.tanh is deprecated. Use torch.tanh instead.\n",
            "  warnings.warn(\"nn.functional.tanh is deprecated. Use torch.tanh instead.\")\n"
          ],
          "name": "stderr"
        }
      ]
    },
    {
      "cell_type": "code",
      "metadata": {
        "id": "yeotEq19x6XF"
      },
      "source": [
        "def weights_init(model):\n",
        "    for m in model.modules():\n",
        "        if isinstance(m, nn.Linear):\n",
        "            # initialize the weight tensor, here we use a normal distribution\n",
        "            m.weight.data.normal_(0, 1)\n",
        "\n",
        "weights_init(model)"
      ],
      "execution_count": 6,
      "outputs": []
    },
    {
      "cell_type": "code",
      "metadata": {
        "id": "WrD_sNzLx78e"
      },
      "source": [
        "loss_func = nn.L1Loss()"
      ],
      "execution_count": 7,
      "outputs": []
    },
    {
      "cell_type": "code",
      "metadata": {
        "id": "-zvbrMd2x_lA"
      },
      "source": [
        "optimizer = optim.SGD(model.parameters(), lr=0.02, momentum=0.9)\n"
      ],
      "execution_count": 8,
      "outputs": []
    },
    {
      "cell_type": "code",
      "metadata": {
        "colab": {
          "base_uri": "https://localhost:8080/"
        },
        "id": "q7tWa3D7yA5X",
        "outputId": "3873cf23-b988-4429-b71a-f5ccb7f596aa"
      },
      "source": [
        "epochs = 300\n",
        "steps = X.size(0)\n",
        "for i in range(epochs):\n",
        "    for j in range(steps):\n",
        "        data_point = np.random.randint(X.size(0))\n",
        "        x_var = Variable(X[data_point], requires_grad=False)\n",
        "        y_var = Variable(Y[data_point], requires_grad=False)\n",
        "        \n",
        "        optimizer.zero_grad()\n",
        "        y_hat = model(x_var)\n",
        "        loss = loss_func.forward(y_hat, y_var)\n",
        "        loss.backward()\n",
        "        optimizer.step()\n",
        "        \n",
        "    if i % 50 == 0:\n",
        "        print( \"Epoch: {0}, Loss: {1}, \".format(i, loss.data.numpy()))"
      ],
      "execution_count": 9,
      "outputs": [
        {
          "output_type": "stream",
          "text": [
            "/usr/local/lib/python3.7/dist-packages/torch/nn/functional.py:1698: UserWarning: nn.functional.tanh is deprecated. Use torch.tanh instead.\n",
            "  warnings.warn(\"nn.functional.tanh is deprecated. Use torch.tanh instead.\")\n"
          ],
          "name": "stderr"
        },
        {
          "output_type": "stream",
          "text": [
            "Epoch: 0, Loss: 0.9605251550674438, \n",
            "Epoch: 50, Loss: 0.025564134120941162, \n",
            "Epoch: 100, Loss: 0.9984849095344543, \n",
            "Epoch: 150, Loss: 0.027256770059466362, \n",
            "Epoch: 200, Loss: 0.006403446197509766, \n",
            "Epoch: 250, Loss: 0.004167675971984863, \n"
          ],
          "name": "stdout"
        }
      ]
    },
    {
      "cell_type": "code",
      "metadata": {
        "id": "QV0dIdveyCRi",
        "colab": {
          "base_uri": "https://localhost:8080/"
        },
        "outputId": "eda9e591-2eba-4aa1-8157-c152735cbebc"
      },
      "source": [
        "epochs = 2001\n",
        "steps = X.size(0)\n",
        "for i in range(epochs):\n",
        "    for j in range(steps):\n",
        "        data_point = np.random.randint(X.size(0))\n",
        "        x_var = Variable(X[data_point], requires_grad=False)\n",
        "        y_var = Variable(Y[data_point], requires_grad=False)\n",
        "        \n",
        "        optimizer.zero_grad()\n",
        "        y_hat = model(x_var)\n",
        "        loss = loss_func.forward(y_hat, y_var)\n",
        "        loss.backward()\n",
        "        optimizer.step()\n",
        "        \n",
        "    if i % 50 == 0:\n",
        "        print( \"Epoch: {0}, Loss: {1}, \".format(i, loss.data.numpy()))"
      ],
      "execution_count": 10,
      "outputs": [
        {
          "output_type": "stream",
          "text": [
            "/usr/local/lib/python3.7/dist-packages/torch/nn/functional.py:1698: UserWarning: nn.functional.tanh is deprecated. Use torch.tanh instead.\n",
            "  warnings.warn(\"nn.functional.tanh is deprecated. Use torch.tanh instead.\")\n"
          ],
          "name": "stderr"
        },
        {
          "output_type": "stream",
          "text": [
            "Epoch: 0, Loss: 0.9987359642982483, \n",
            "Epoch: 50, Loss: 0.0033780336380004883, \n",
            "Epoch: 100, Loss: 0.0029476284980773926, \n",
            "Epoch: 150, Loss: 0.0027937889099121094, \n",
            "Epoch: 200, Loss: 0.0032689571380615234, \n",
            "Epoch: 250, Loss: 0.9987842440605164, \n",
            "Epoch: 300, Loss: 0.9988695383071899, \n",
            "Epoch: 350, Loss: 0.003073751926422119, \n",
            "Epoch: 400, Loss: 0.9987457990646362, \n",
            "Epoch: 450, Loss: 0.030270742252469063, \n",
            "Epoch: 500, Loss: 0.9989328384399414, \n",
            "Epoch: 550, Loss: 0.08049037307500839, \n",
            "Epoch: 600, Loss: 0.002134978771209717, \n",
            "Epoch: 650, Loss: 0.002200007438659668, \n",
            "Epoch: 700, Loss: 0.999163806438446, \n",
            "Epoch: 750, Loss: 0.09759388864040375, \n",
            "Epoch: 800, Loss: 0.9992963075637817, \n",
            "Epoch: 850, Loss: 0.9993129372596741, \n",
            "Epoch: 900, Loss: 0.0013646483421325684, \n",
            "Epoch: 950, Loss: 0.07679819315671921, \n",
            "Epoch: 1000, Loss: 0.03262244164943695, \n",
            "Epoch: 1050, Loss: 0.0011996626853942871, \n",
            "Epoch: 1100, Loss: 0.0013160109519958496, \n",
            "Epoch: 1150, Loss: 0.0012382268905639648, \n",
            "Epoch: 1200, Loss: 0.9995036721229553, \n",
            "Epoch: 1250, Loss: 0.0011267662048339844, \n",
            "Epoch: 1300, Loss: 0.9995391964912415, \n",
            "Epoch: 1350, Loss: 0.0011902451515197754, \n",
            "Epoch: 1400, Loss: 0.9995739459991455, \n",
            "Epoch: 1450, Loss: 0.9995980262756348, \n",
            "Epoch: 1500, Loss: 0.9996030330657959, \n",
            "Epoch: 1550, Loss: 0.000777125358581543, \n",
            "Epoch: 1600, Loss: 0.0008095502853393555, \n",
            "Epoch: 1650, Loss: 0.0008004903793334961, \n",
            "Epoch: 1700, Loss: 0.9996297955513, \n",
            "Epoch: 1750, Loss: 0.0007641315460205078, \n",
            "Epoch: 1800, Loss: 0.2510629892349243, \n",
            "Epoch: 1850, Loss: 0.0006822943687438965, \n",
            "Epoch: 1900, Loss: 0.0006070137023925781, \n",
            "Epoch: 1950, Loss: 0.0006427168846130371, \n",
            "Epoch: 2000, Loss: 0.0006664395332336426, \n"
          ],
          "name": "stdout"
        }
      ]
    },
    {
      "cell_type": "code",
      "metadata": {
        "id": "I5TcYZneFOhn"
      },
      "source": [
        ""
      ],
      "execution_count": null,
      "outputs": []
    }
  ]
}